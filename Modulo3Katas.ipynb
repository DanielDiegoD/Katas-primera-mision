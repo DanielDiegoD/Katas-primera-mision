{
 "cells": [
  {
   "cell_type": "markdown",
   "metadata": {},
   "source": [
    "#Modulo3 Katas\n"
   ]
  },
  {
   "cell_type": "code",
   "execution_count": 2,
   "metadata": {},
   "outputs": [
    {
     "name": "stdout",
     "output_type": "stream",
     "text": [
      "Alerta asteroide\n"
     ]
    }
   ],
   "source": [
    "velocidad_asteroide = 49\n",
    "if velocidad_asteroide >= 25:\n",
    "    print (\"Alerta asteroide\") "
   ]
  },
  {
   "cell_type": "code",
   "execution_count": 3,
   "metadata": {},
   "outputs": [
    {
     "name": "stdout",
     "output_type": "stream",
     "text": [
      "No hay nada\n"
     ]
    }
   ],
   "source": [
    "velocidad_asteroide = 19\n",
    "if velocidad_asteroide > 20:\n",
    "    print(\"Rayo de luz en el cielo\")\n",
    "elif velocidad_asteroide == 20:\n",
    "    print(\"Rayo de luz en el cielo\")\n",
    "else:\n",
    "    print (\"No hay nada\")"
   ]
  },
  {
   "cell_type": "markdown",
   "metadata": {},
   "source": [
    "#Uso de operadores and y or"
   ]
  },
  {
   "cell_type": "code",
   "execution_count": 5,
   "metadata": {},
   "outputs": [
    {
     "name": "stdout",
     "output_type": "stream",
     "text": [
      "Una luz en el cielo\n"
     ]
    }
   ],
   "source": [
    "velocidad_asteroide = 20\n",
    "tamaño_asteroide = 40\n",
    "if tamaño_asteroide < 25:\n",
    "    print(\"No se preocupe\")\n",
    "elif tamaño_asteroide >25 and velocidad_asteroide > 25:\n",
    "    print (\"Un asteroide viene a la tierra\")\n",
    "elif velocidad_asteroide >= 20:\n",
    "    print(\"Una luz en el cielo\")\n",
    "else:\n",
    "    print(\"No hay nada\")\n",
    "\n"
   ]
  }
 ],
 "metadata": {
  "interpreter": {
   "hash": "e6fad8134df9e5d8b8d6d65c861d5f535ad48201ee3e73e4438a263582efefbc"
  },
  "kernelspec": {
   "display_name": "Python 3.10.2 64-bit",
   "language": "python",
   "name": "python3"
  },
  "language_info": {
   "codemirror_mode": {
    "name": "ipython",
    "version": 3
   },
   "file_extension": ".py",
   "mimetype": "text/x-python",
   "name": "python",
   "nbconvert_exporter": "python",
   "pygments_lexer": "ipython3",
   "version": "3.10.2"
  },
  "orig_nbformat": 4
 },
 "nbformat": 4,
 "nbformat_minor": 2
}
