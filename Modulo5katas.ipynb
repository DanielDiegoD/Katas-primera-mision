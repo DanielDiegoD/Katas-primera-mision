{
 "cells": [
  {
   "cell_type": "markdown",
   "metadata": {},
   "source": [
    "#Modulo 5 Katas"
   ]
  },
  {
   "cell_type": "markdown",
   "metadata": {},
   "source": [
    "Ejercicio 1"
   ]
  },
  {
   "cell_type": "code",
   "execution_count": 3,
   "metadata": {},
   "outputs": [
    {
     "name": "stdout",
     "output_type": "stream",
     "text": [
      "628949330\n",
      "390577534\n"
     ]
    }
   ],
   "source": [
    "Tierra_distancia = 149597870\n",
    "Jupiter_distancia = 778547200\n",
    "distancia_planetas = abs(Tierra_distancia - Jupiter_distancia)\n",
    "distancia_planetas_millas = round(distancia_planetas * 0.621)\n",
    "print(distancia_planetas)\n",
    "print(distancia_planetas_millas)"
   ]
  },
  {
   "cell_type": "markdown",
   "metadata": {},
   "source": [
    "Ejercicio 2"
   ]
  },
  {
   "cell_type": "code",
   "execution_count": 5,
   "metadata": {},
   "outputs": [
    {
     "name": "stdout",
     "output_type": "stream",
     "text": [
      "50300000\n",
      "31236300.0\n"
     ]
    }
   ],
   "source": [
    "distancia_planeta1 = int(input(\"¿Cual es la distancia del sol apartir de la Tierra?\"))\n",
    "distancia_planeta2 = int(input(\"¿Cual es la distancia del sol apartir de la Jupiter?\"))\n",
    "distancia_entre_planetas = abs(distancia_planeta1 - distancia_planeta2)\n",
    "distancia_entre_planetas_millas = distancia_entre_planetas * 0.621\n",
    "print(distancia_entre_planetas)\n",
    "print(distancia_entre_planetas_millas)"
   ]
  }
 ],
 "metadata": {
  "interpreter": {
   "hash": "e6fad8134df9e5d8b8d6d65c861d5f535ad48201ee3e73e4438a263582efefbc"
  },
  "kernelspec": {
   "display_name": "Python 3.10.2 64-bit",
   "language": "python",
   "name": "python3"
  },
  "language_info": {
   "codemirror_mode": {
    "name": "ipython",
    "version": 3
   },
   "file_extension": ".py",
   "mimetype": "text/x-python",
   "name": "python",
   "nbconvert_exporter": "python",
   "pygments_lexer": "ipython3",
   "version": "3.10.2"
  },
  "orig_nbformat": 4
 },
 "nbformat": 4,
 "nbformat_minor": 2
}
