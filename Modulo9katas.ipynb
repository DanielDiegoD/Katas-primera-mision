{
 "cells": [
  {
   "cell_type": "markdown",
   "metadata": {},
   "source": [
    "Modulo 9 Katas\n",
    "\n",
    "Uso de funciones en Python\n",
    "\n",
    "Ejercicio 1: Trabajar con argumentos en funciones\n"
   ]
  },
  {
   "cell_type": "code",
   "execution_count": 4,
   "metadata": {},
   "outputs": [
    {
     "name": "stdout",
     "output_type": "stream",
     "text": [
      "Promedio Total 17.666666666666668 \n",
      "    Tanque 1: 4\n",
      "    Tanque 2: 44\n",
      "    Tanque 3: 5\n",
      "             \n"
     ]
    }
   ],
   "source": [
    "def informe_combustible( tanque1, tanque2, tanque3):\n",
    "    promedio= (tanque1 + tanque2 + tanque3) /3\n",
    "    return f\"\"\"Promedio Total {promedio} \n",
    "    Tanque 1: {tanque1}\n",
    "    Tanque 2: {tanque2}\n",
    "    Tanque 3: {tanque3}\n",
    "             \"\"\"\n",
    "print(informe_combustible(4 ,44,5))\n"
   ]
  },
  {
   "cell_type": "code",
   "execution_count": 5,
   "metadata": {},
   "outputs": [
    {
     "data": {
      "text/plain": [
       "31.666666666666668"
      ]
     },
     "execution_count": 5,
     "metadata": {},
     "output_type": "execute_result"
    }
   ],
   "source": [
    "def promedio(values):\n",
    "    total = sum(values)\n",
    "    numero_tanques = len(values)\n",
    "    return total / numero_tanques\n",
    "\n",
    "promedio([30,20,45]) "
   ]
  },
  {
   "cell_type": "code",
   "execution_count": 7,
   "metadata": {},
   "outputs": [
    {
     "name": "stdout",
     "output_type": "stream",
     "text": [
      "Promedio Total 53.0 \n",
      "    Tanque 1: 4\n",
      "    Tanque 2: 44\n",
      "    Tanque 3: 5\n",
      "             \n"
     ]
    }
   ],
   "source": [
    "def informe_combustible( tanque1, tanque2, tanque3):\n",
    "    return f\"\"\"Promedio Total {promedio([tanque1 + tanque2 + tanque3])} \n",
    "    Tanque 1: {tanque1}\n",
    "    Tanque 2: {tanque2}\n",
    "    Tanque 3: {tanque3}\n",
    "             \"\"\"\n",
    "print(informe_combustible(4 ,44,5))"
   ]
  },
  {
   "cell_type": "markdown",
   "metadata": {},
   "source": [
    "Ejercicio 2: Trabajo con argumentos de palabra clave"
   ]
  },
  {
   "cell_type": "code",
   "execution_count": 3,
   "metadata": {},
   "outputs": [
    {
     "name": "stdout",
     "output_type": "stream",
     "text": [
      "Mision con destino a: Marte\n",
      "   Tiempo total de vuelo: 70 minutos\n",
      "   Combustible: 600  \n"
     ]
    }
   ],
   "source": [
    "def reporte_mision(hora_prelanzamiento,combustible1,combustible2,nombre_destino,tiempo_vuelo):\n",
    "   return f\"\"\"Mision con destino a: {nombre_destino}\n",
    "   Tiempo total de vuelo: {hora_prelanzamiento + tiempo_vuelo} minutos\n",
    "   Combustible: {combustible1 + combustible2}  \"\"\"\n",
    "\n",
    "print(reporte_mision(10, 300, 300, \"Marte\", 60))"
   ]
  },
  {
   "cell_type": "code",
   "execution_count": 1,
   "metadata": {},
   "outputs": [
    {
     "name": "stdout",
     "output_type": "stream",
     "text": [
      "\n",
      "    MIsion a Marte\n",
      "    Tiempo total a: 117 minutes\n",
      "    Combustible total: 7000\n",
      "    \n"
     ]
    }
   ],
   "source": [
    "def reporte_mision(destino, *minutos, **combustibles):\n",
    "    return f\"\"\"\n",
    "    MIsion a {destino}\n",
    "    Tiempo total a: {sum(minutos)} minutes\n",
    "    Combustible total: {sum(combustibles.values())}\n",
    "    \"\"\"\n",
    "\n",
    "print(reporte_mision(\"Marte\", 32, 45, 40, Tanque1=2000, Tanque2=5000))"
   ]
  },
  {
   "cell_type": "code",
   "execution_count": 2,
   "metadata": {},
   "outputs": [
    {
     "name": "stdout",
     "output_type": "stream",
     "text": [
      "\n",
      "    Mision a Marte\n",
      "    Tiempo total a: 116 minutes\n",
      "    Combustible total: 7000\n",
      "    Tanque1 --> 2000 litros \n",
      "Tanque2 --> 5000 litros \n",
      "\n"
     ]
    }
   ],
   "source": [
    "def reporte_mision(destino, *minutos, **combustibles):\n",
    "    main_report = f\"\"\"\n",
    "    Mision a {destino}\n",
    "    Tiempo total a: {sum(minutos)} minutes\n",
    "    Combustible total: {sum(combustibles.values())}\n",
    "    \"\"\"\n",
    "    for tanque, litros in combustibles.items():\n",
    "        main_report += f\"{tanque} --> {litros} litros \\n\"\n",
    "    return main_report\n",
    "\n",
    "print(reporte_mision(\"Marte\", 40, 54, 22, Tanque1=2000, Tanque2=5000))\n",
    "\n"
   ]
  }
 ],
 "metadata": {
  "interpreter": {
   "hash": "e6fad8134df9e5d8b8d6d65c861d5f535ad48201ee3e73e4438a263582efefbc"
  },
  "kernelspec": {
   "display_name": "Python 3.10.2 64-bit",
   "language": "python",
   "name": "python3"
  },
  "language_info": {
   "codemirror_mode": {
    "name": "ipython",
    "version": 3
   },
   "file_extension": ".py",
   "mimetype": "text/x-python",
   "name": "python",
   "nbconvert_exporter": "python",
   "pygments_lexer": "ipython3",
   "version": "3.10.2"
  },
  "orig_nbformat": 4
 },
 "nbformat": 4,
 "nbformat_minor": 2
}
