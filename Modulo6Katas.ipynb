{
 "cells": [
  {
   "cell_type": "markdown",
   "metadata": {},
   "source": [
    "#Modulo 6 Katas\n",
    "\n",
    "Crear y usar listas de python"
   ]
  },
  {
   "cell_type": "code",
   "execution_count": 3,
   "metadata": {},
   "outputs": [
    {
     "name": "stdout",
     "output_type": "stream",
     "text": [
      "['Mercurio', 'Venus', 'Tierra', 'Marte', 'Jupiter', 'Saturno', 'Urano', ' Neptuno']\n",
      "El numero de planetas es: 9 Y el ultimo elemento es: Pluton\n"
     ]
    }
   ],
   "source": [
    "planetas = ['Mercurio', 'Venus', 'Tierra', 'Marte','Jupiter', 'Saturno', 'Urano', ' Neptuno']\n",
    "print(planetas)\n",
    "planetas.append('Pluton')\n",
    "numero_de_planetas=len(planetas)\n",
    "print('El numero de planetas es:',numero_de_planetas,'Y el ultimo elemento es:',planetas[-1])\n"
   ]
  },
  {
   "cell_type": "markdown",
   "metadata": {},
   "source": [
    "Ejercicio 2: Tranajando con datos de una lista\n",
    "\n"
   ]
  },
  {
   "cell_type": "code",
   "execution_count": 13,
   "metadata": {},
   "outputs": [
    {
     "name": "stdout",
     "output_type": "stream",
     "text": [
      "Marte Es el planeta 4 del sistema solar\n",
      "Los planetas mas cercanos al Sol son: ['Mercurio', 'Venus', 'Tierra']\n",
      "Planetas alejados del Sol ['Jupiter', 'Saturno', 'Urano', ' Neptuno']\n"
     ]
    }
   ],
   "source": [
    "planetas = ['Mercurio', 'Venus', 'Tierra', 'Marte','Jupiter', 'Saturno', 'Urano', ' Neptuno']\n",
    "nombre_planeta = input('Ingresa el nombre de un planeta(Iniciando con una mayuscula)')\n",
    "planeta_index = planetas.index(nombre_planeta)\n",
    "print(nombre_planeta,'Es el planeta',planeta_index + 1, 'del sistema solar')\n",
    "planetas_cercanos = planetas[0:planeta_index]\n",
    "print('Los planetas mas cercanos al Sol son:',planetas_cercanos )\n",
    "planetas_alejados = planetas[planeta_index+1:]\n",
    "print('Planetas alejados del Sol',planetas_alejados)"
   ]
  }
 ],
 "metadata": {
  "interpreter": {
   "hash": "e6fad8134df9e5d8b8d6d65c861d5f535ad48201ee3e73e4438a263582efefbc"
  },
  "kernelspec": {
   "display_name": "Python 3.10.2 64-bit",
   "language": "python",
   "name": "python3"
  },
  "language_info": {
   "codemirror_mode": {
    "name": "ipython",
    "version": 3
   },
   "file_extension": ".py",
   "mimetype": "text/x-python",
   "name": "python",
   "nbconvert_exporter": "python",
   "pygments_lexer": "ipython3",
   "version": "3.10.2"
  },
  "orig_nbformat": 4
 },
 "nbformat": 4,
 "nbformat_minor": 2
}
